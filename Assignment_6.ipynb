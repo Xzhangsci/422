{
  "nbformat": 4,
  "nbformat_minor": 0,
  "metadata": {
    "colab": {
      "name": "Assignment 6.ipynb",
      "provenance": [],
      "collapsed_sections": [],
      "authorship_tag": "ABX9TyPpfYDWl2LGPGLBidA8O49X",
      "include_colab_link": true
    },
    "kernelspec": {
      "name": "python3",
      "display_name": "Python 3"
    }
  },
  "cells": [
    {
      "cell_type": "markdown",
      "metadata": {
        "id": "view-in-github",
        "colab_type": "text"
      },
      "source": [
        "<a href=\"https://colab.research.google.com/github/Xzhangsci/422/blob/master/Assignment_6.ipynb\" target=\"_parent\"><img src=\"https://colab.research.google.com/assets/colab-badge.svg\" alt=\"Open In Colab\"/></a>"
      ]
    },
    {
      "cell_type": "code",
      "metadata": {
        "id": "gMP0HOIdFF4e",
        "colab_type": "code",
        "outputId": "034b3e19-c387-4141-b369-8e5785be72c1",
        "colab": {
          "base_uri": "https://localhost:8080/",
          "height": 35
        }
      },
      "source": [
        "# this code is writtin on CoLab at Google drive since my laptop has Python3.8 while tensorflow was not released to 3.8\n",
        "# below is to load tensorflow2.0 to keep it updated\n",
        "%tensorflow_version 2.x\n",
        "\n",
        "import tensorflow as tf\n",
        "from tensorflow import keras\n",
        "print(tf.__version__, keras.__version__)"
      ],
      "execution_count": 9,
      "outputs": [
        {
          "output_type": "stream",
          "text": [
            "2.1.0 2.2.4-tf\n"
          ],
          "name": "stdout"
        }
      ]
    },
    {
      "cell_type": "code",
      "metadata": {
        "id": "guyu9DGCKbnH",
        "colab_type": "code",
        "colab": {}
      },
      "source": [
        "import numpy as np\n",
        "import pandas as pd\n",
        "import os\n",
        "import matplotlib.pyplot as plt\n",
        "from PIL import Image, ImageDraw\n",
        "\n",
        "RANDOM_SEED = 42\n",
        "SET_FIT_INTERCEPT = True"
      ],
      "execution_count": 0,
      "outputs": []
    },
    {
      "cell_type": "code",
      "metadata": {
        "id": "piIzq9MQEMGk",
        "colab_type": "code",
        "colab": {}
      },
      "source": [
        "# Load the data option 1 from the online mnist package for a full set of train and test data\n",
        "# outcome is data0 to (X_train0, y_train0),(X_test, y_test) \n",
        "# data0 = keras.datasets.mnist\n",
        "# type(data0)\n",
        "# (X_train0, y_train0),(X_test, y_test)=data0.load_data()\n",
        "# print(X_train0.shape, y_train0.shape, X_test.shape, y_test.shape)\n",
        "# print(type(X_train0), X_train0.dtype, X_train0[0,0,0].dtype)"
      ],
      "execution_count": 0,
      "outputs": []
    },
    {
      "cell_type": "code",
      "metadata": {
        "id": "eoLuYZ9jZEPp",
        "colab_type": "code",
        "colab": {
          "resources": {
            "http://localhost:8080/nbextensions/google.colab/files.js": {
              "data": "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",
              "ok": true,
              "headers": [
                [
                  "content-type",
                  "application/javascript"
                ]
              ],
              "status": 200,
              "status_text": ""
            }
          },
          "base_uri": "https://localhost:8080/",
          "height": 40
        },
        "outputId": "b72404a3-ae07-4fa8-be8e-6b24d941947b"
      },
      "source": [
        "# Load the data option 2 for the Kaggle competition for train and test(no y) data \n",
        "from google.colab import files\n",
        "uploaded = files.upload()"
      ],
      "execution_count": 24,
      "outputs": [
        {
          "output_type": "display_data",
          "data": {
            "text/html": [
              "\n",
              "     <input type=\"file\" id=\"files-0a8b419d-c914-4959-9aef-20003dbf1a3d\" name=\"files[]\" multiple disabled />\n",
              "     <output id=\"result-0a8b419d-c914-4959-9aef-20003dbf1a3d\">\n",
              "      Upload widget is only available when the cell has been executed in the\n",
              "      current browser session. Please rerun this cell to enable.\n",
              "      </output>\n",
              "      <script src=\"/nbextensions/google.colab/files.js\"></script> "
            ],
            "text/plain": [
              "<IPython.core.display.HTML object>"
            ]
          },
          "metadata": {
            "tags": []
          }
        }
      ]
    },
    {
      "cell_type": "code",
      "metadata": {
        "id": "ZCnfrDQIRMMm",
        "colab_type": "code",
        "colab": {
          "base_uri": "https://localhost:8080/",
          "height": 35
        },
        "outputId": "b4b87801-a186-46ba-a78c-e23c6e3f8ae2"
      },
      "source": [
        "df_data1 = pd.read_csv('train.csv')\n",
        "df_data2 = pd.read_csv('test.csv')\n",
        "X_train0 = df_data1.drop(labels = [\"label\"], axis = 1) \n",
        "y_train0 = df_data1['label']\n",
        "# Reshape data\n",
        "X_train0 = X_train0.values.reshape(-1, 28, 28)\n",
        "# One-Hot encoding\n",
        "X_test = df_data2\n",
        "X_test = X_test.values.reshape(-1, 28, 28)\n",
        "#print(X_train0.shape, y_train0.shape, X_test.shape.shape)\n",
        "print(type(X_train0), X_train0.dtype, X_train0[0,0,0].dtype)"
      ],
      "execution_count": 132,
      "outputs": [
        {
          "output_type": "stream",
          "text": [
            "<class 'numpy.ndarray'> int64 int64\n"
          ],
          "name": "stdout"
        }
      ]
    },
    {
      "cell_type": "code",
      "metadata": {
        "id": "Wg2o3lZAMRh2",
        "colab_type": "code",
        "outputId": "45e6e51c-94e7-493d-c02b-3d1814d3fea3",
        "colab": {
          "base_uri": "https://localhost:8080/",
          "height": 35
        }
      },
      "source": [
        "# Making sure that the values are float so that we can get decimal points after division\n",
        "X_train0 = X_train0.astype('float32')\n",
        "X_test = X_test.astype('float32')\n",
        "print(type(X_train0), X_train0.dtype, X_train0[0].dtype)"
      ],
      "execution_count": 133,
      "outputs": [
        {
          "output_type": "stream",
          "text": [
            "<class 'numpy.ndarray'> float32 float32\n"
          ],
          "name": "stdout"
        }
      ]
    },
    {
      "cell_type": "code",
      "metadata": {
        "id": "prlwyO0dYUOX",
        "colab_type": "code",
        "outputId": "f20a100f-05bd-42b7-b749-a857955915cf",
        "colab": {
          "base_uri": "https://localhost:8080/",
          "height": 35
        }
      },
      "source": [
        "# Normalizing the RGB codes by dividing it to the max RGB value\n",
        "# Dividing to 255 (which is the maximum RGB code minus the minimum RGB code)\n",
        "X_train0 /= 255\n",
        "X_test /= 255\n",
        "print(X_train0.shape, y_train0.shape, X_test.shape)"
      ],
      "execution_count": 134,
      "outputs": [
        {
          "output_type": "stream",
          "text": [
            "(42000, 28, 28) (42000,) (28000, 28, 28)\n"
          ],
          "name": "stdout"
        }
      ]
    },
    {
      "cell_type": "code",
      "metadata": {
        "id": "jonh-aKnJ_vx",
        "colab_type": "code",
        "outputId": "bd515714-a518-4f61-f8f1-8b8a2c7373fe",
        "colab": {
          "base_uri": "https://localhost:8080/",
          "height": 35
        }
      },
      "source": [
        "from sklearn.model_selection import train_test_split\n",
        "X_train, X_valid, y_train, y_valid = train_test_split(X_train0, y_train0, test_size=1/10, random_state=RANDOM_SEED)\n",
        "print(X_train.shape, X_valid.shape, y_train.shape, y_valid.shape, X_test.shape)"
      ],
      "execution_count": 135,
      "outputs": [
        {
          "output_type": "stream",
          "text": [
            "(37800, 28, 28) (4200, 28, 28) (37800,) (4200,) (28000, 28, 28)\n"
          ],
          "name": "stdout"
        }
      ]
    },
    {
      "cell_type": "code",
      "metadata": {
        "id": "TDflP7K1NrdO",
        "colab_type": "code",
        "outputId": "1ab47445-a58c-406c-c912-e408dc7a60e4",
        "colab": {
          "base_uri": "https://localhost:8080/",
          "height": 336
        }
      },
      "source": [
        "# print some image from train file\n",
        "fig, axs = plt.subplots(1, 8, figsize=(10, 4))\n",
        "for ax, i in zip(axs, range(0,8)):\n",
        "    ax.imshow(np.reshape(np.array(X_train[i]), (28,28)), cmap='plasma')\n",
        "    ax.set_title('X_train:'+str(i))\n",
        "    ax.grid(True)\n",
        "plt.show()\n",
        "print(y_train, y_train.dtype)    "
      ],
      "execution_count": 86,
      "outputs": [
        {
          "output_type": "display_data",
          "data": {
            "image/png": "[encoded data removed]",
            "text/plain": [
              "<Figure size 720x288 with 8 Axes>"
            ]
          },
          "metadata": {
            "tags": []
          }
        },
        {
          "output_type": "stream",
          "text": [
            "22460    8\n",
            "20828    5\n",
            "32032    6\n",
            "6194     2\n",
            "12768    2\n",
            "        ..\n",
            "6265     9\n",
            "11284    9\n",
            "38158    2\n",
            "860      6\n",
            "15795    0\n",
            "Name: label, Length: 37800, dtype: int64 int64\n"
          ],
          "name": "stdout"
        }
      ]
    },
    {
      "cell_type": "code",
      "metadata": {
        "id": "45anIPg3WV3U",
        "colab_type": "code",
        "outputId": "e479a8e3-4549-4e85-d50c-084970045929",
        "colab": {
          "base_uri": "https://localhost:8080/",
          "height": 336
        }
      },
      "source": [
        "fig, axs = plt.subplots(1, 8, figsize=(10, 4))\n",
        "for ax, i in zip(axs, range(0,8)):\n",
        "    ax.imshow(np.reshape(np.array(X_valid[i]), (28,28)), cmap='plasma')\n",
        "    ax.set_title('X_valid:'+str(i))\n",
        "    ax.grid(True)\n",
        "plt.show()\n",
        "print(y_valid, y_valid.dtype)"
      ],
      "execution_count": 85,
      "outputs": [
        {
          "output_type": "display_data",
          "data": {
            "image/png": "[encoded data removed]",
            "text/plain": [
              "<Figure size 720x288 with 8 Axes>"
            ]
          },
          "metadata": {
            "tags": []
          }
        },
        {
          "output_type": "stream",
          "text": [
            "5457     8\n",
            "38509    1\n",
            "25536    9\n",
            "31803    9\n",
            "39863    8\n",
            "        ..\n",
            "16041    4\n",
            "4867     2\n",
            "28123    7\n",
            "3780     7\n",
            "7155     5\n",
            "Name: label, Length: 4200, dtype: int64 int64\n"
          ],
          "name": "stdout"
        }
      ]
    },
    {
      "cell_type": "code",
      "metadata": {
        "id": "VnjRJo3PNMdk",
        "colab_type": "code",
        "outputId": "e87056d4-83d1-4d2c-b058-7d2488c44950",
        "colab": {
          "base_uri": "https://localhost:8080/",
          "height": 70
        }
      },
      "source": [
        "input_shape = (28, 28)\n",
        "print('Number of images in X_train', X_train.shape[0])\n",
        "print('Number of images in X_valid', X_valid.shape[0])\n",
        "print('Number of images in X_test', X_test.shape[0])"
      ],
      "execution_count": 88,
      "outputs": [
        {
          "output_type": "stream",
          "text": [
            "Number of images in X_train 37800\n",
            "Number of images in X_valid 4200\n",
            "Number of images in X_test 28000\n"
          ],
          "name": "stdout"
        }
      ]
    },
    {
      "cell_type": "code",
      "metadata": {
        "id": "_YZXaAy6Ws04",
        "colab_type": "code",
        "colab": {}
      },
      "source": [
        "# Importing the required Keras modules containing model and layers\n",
        "# Creating a Sequential Model and adding the layers\n",
        "model = tf.keras.models.Sequential()\n",
        "# model.add(tf.keras.layers.Conv2D(28, kernel_size=(3,3), input_shape=input_shape))\n",
        "# model.add(tf.keras.layers.MaxPooling2D(pool_size=(2, 2)))\n",
        "# Flattening the 2D arrays for fully connected layers\n",
        "model.add(tf.keras.layers.Flatten(input_shape=input_shape)) \n",
        "model.add(tf.keras.layers.Dense(300, activation='relu'))\n",
        "model.add(tf.keras.layers.Dense(100, activation='relu'))\n",
        "# the final Dense layer must have 10 neurons since we have 10 number classes\n",
        "model.add(tf.keras.layers.Dense(10,activation='softmax'))"
      ],
      "execution_count": 0,
      "outputs": []
    },
    {
      "cell_type": "code",
      "metadata": {
        "id": "kR1Bent5KmLW",
        "colab_type": "code",
        "colab": {}
      },
      "source": [
        "keras.backend.clear_session()\n",
        "np.random.seed(42)\n",
        "tf.random.set_seed(42)"
      ],
      "execution_count": 0,
      "outputs": []
    },
    {
      "cell_type": "code",
      "metadata": {
        "id": "3OlyHq6aJTSm",
        "colab_type": "code",
        "outputId": "74df4d41-de68-4fdf-92bc-c7902822012c",
        "colab": {
          "base_uri": "https://localhost:8080/",
          "height": 88
        }
      },
      "source": [
        "model.layers"
      ],
      "execution_count": 110,
      "outputs": [
        {
          "output_type": "execute_result",
          "data": {
            "text/plain": [
              "[<tensorflow.python.keras.layers.core.Flatten at 0x7f8b3a0f7710>,\n",
              " <tensorflow.python.keras.layers.core.Dense at 0x7f8b3a3f4ba8>,\n",
              " <tensorflow.python.keras.layers.core.Dense at 0x7f8b39f7b6a0>,\n",
              " <tensorflow.python.keras.layers.core.Dense at 0x7f8b39f7b908>]"
            ]
          },
          "metadata": {
            "tags": []
          },
          "execution_count": 110
        }
      ]
    },
    {
      "cell_type": "code",
      "metadata": {
        "id": "B_BjrOUOJoFk",
        "colab_type": "code",
        "outputId": "5fa5822c-0aa3-49d7-8947-253f93641a15",
        "colab": {
          "base_uri": "https://localhost:8080/",
          "height": 301
        }
      },
      "source": [
        "model.summary()\n",
        "#235500=28*28*300+300\n",
        "#30100=300*100+100\n",
        "#1010=100*10+10"
      ],
      "execution_count": 111,
      "outputs": [
        {
          "output_type": "stream",
          "text": [
            "Model: \"sequential\"\n",
            "_________________________________________________________________\n",
            "Layer (type)                 Output Shape              Param #   \n",
            "=================================================================\n",
            "flatten (Flatten)            (None, 784)               0         \n",
            "_________________________________________________________________\n",
            "dense (Dense)                (None, 300)               235500    \n",
            "_________________________________________________________________\n",
            "dense_1 (Dense)              (None, 100)               30100     \n",
            "_________________________________________________________________\n",
            "dense_2 (Dense)              (None, 10)                1010      \n",
            "=================================================================\n",
            "Total params: 266,610\n",
            "Trainable params: 266,610\n",
            "Non-trainable params: 0\n",
            "_________________________________________________________________\n"
          ],
          "name": "stdout"
        }
      ]
    },
    {
      "cell_type": "code",
      "metadata": {
        "id": "PmIMrEv8OA5v",
        "colab_type": "code",
        "outputId": "85b91ab3-a28b-42d0-c17d-b289f7b29c23",
        "colab": {
          "base_uri": "https://localhost:8080/",
          "height": 533
        }
      },
      "source": [
        "keras.utils.plot_model(model, show_shapes=True)"
      ],
      "execution_count": 112,
      "outputs": [
        {
          "output_type": "execute_result",
          "data": {
            "image/png": "[encoded data removed]",
            "text/plain": [
              "<IPython.core.display.Image object>"
            ]
          },
          "metadata": {
            "tags": []
          },
          "execution_count": 112
        }
      ]
    },
    {
      "cell_type": "code",
      "metadata": {
        "id": "apWgy7L7PAJt",
        "colab_type": "code",
        "colab": {}
      },
      "source": [
        "hidden1 = model.layers[1]\n",
        "hidden2 = model.layers[2]\n",
        "hidden3 = model.layers[3]\n",
        "weights1,biases1 = hidden1.get_weights()\n",
        "weights2,biases2 = hidden2.get_weights()\n",
        "weights3,biases3 = hidden3.get_weights()"
      ],
      "execution_count": 0,
      "outputs": []
    },
    {
      "cell_type": "code",
      "metadata": {
        "id": "I864xspnPAOm",
        "colab_type": "code",
        "outputId": "477c8d9b-3c4a-4fdc-abce-c45d57fd4166",
        "colab": {
          "base_uri": "https://localhost:8080/",
          "height": 248
        }
      },
      "source": [
        "weights1"
      ],
      "execution_count": 69,
      "outputs": [
        {
          "output_type": "execute_result",
          "data": {
            "text/plain": [
              "array([[ 0.02448617, -0.00877795, -0.02189048, ..., -0.02766046,\n",
              "         0.03859074, -0.06889391],\n",
              "       [ 0.00476504, -0.03105379, -0.0586676 , ...,  0.00602964,\n",
              "        -0.02763776, -0.04165364],\n",
              "       [-0.06189284, -0.06901957,  0.07102345, ..., -0.04238207,\n",
              "         0.07121518, -0.07331658],\n",
              "       ...,\n",
              "       [-0.03048757,  0.02155137, -0.05400612, ..., -0.00113463,\n",
              "         0.00228987,  0.05581069],\n",
              "       [ 0.07061854, -0.06960931,  0.07038955, ..., -0.00384101,\n",
              "         0.00034875,  0.02878492],\n",
              "       [-0.06022581,  0.01577859, -0.02585464, ..., -0.00527829,\n",
              "         0.00272203, -0.06793761]], dtype=float32)"
            ]
          },
          "metadata": {
            "tags": []
          },
          "execution_count": 69
        }
      ]
    },
    {
      "cell_type": "code",
      "metadata": {
        "id": "Is5jvACaPASN",
        "colab_type": "code",
        "outputId": "b9b6a264-90bb-49fa-8ecd-2d77bb914d69",
        "colab": {
          "base_uri": "https://localhost:8080/",
          "height": 248
        }
      },
      "source": [
        "weights2"
      ],
      "execution_count": 100,
      "outputs": [
        {
          "output_type": "execute_result",
          "data": {
            "text/plain": [
              "array([[ 0.01835579, -0.07372817,  0.04992647, ..., -0.05717973,\n",
              "         0.06312802,  0.03272299],\n",
              "       [-0.09408142, -0.09319659, -0.06018685, ...,  0.09630845,\n",
              "         0.02668519, -0.07452354],\n",
              "       [ 0.05840964,  0.0354368 , -0.01092584, ..., -0.02297685,\n",
              "        -0.04184046, -0.00757462],\n",
              "       ...,\n",
              "       [ 0.03578977, -0.08830515,  0.07290968, ...,  0.0216084 ,\n",
              "        -0.06387907,  0.02742993],\n",
              "       [-0.09415827,  0.11326052, -0.03006794, ...,  0.08204401,\n",
              "         0.10711684,  0.05425344],\n",
              "       [ 0.11843706,  0.06329667, -0.02823869, ..., -0.06895281,\n",
              "        -0.04317106, -0.11561107]], dtype=float32)"
            ]
          },
          "metadata": {
            "tags": []
          },
          "execution_count": 100
        }
      ]
    },
    {
      "cell_type": "code",
      "metadata": {
        "id": "5H8dTorrPX7L",
        "colab_type": "code",
        "colab": {
          "base_uri": "https://localhost:8080/",
          "height": 1000
        },
        "outputId": "5e887acd-9e01-4dc6-89e4-3b4200de7023"
      },
      "source": [
        "weights3"
      ],
      "execution_count": 116,
      "outputs": [
        {
          "output_type": "execute_result",
          "data": {
            "text/plain": [
              "array([[ 1.12742752e-01,  6.00438714e-02, -2.25429326e-01,\n",
              "        -7.32669234e-02,  4.96883690e-03, -5.71009815e-02,\n",
              "        -1.99350551e-01, -2.23567635e-01, -9.94094461e-02,\n",
              "        -1.35171115e-02],\n",
              "       [ 9.04370248e-02, -1.99351788e-01,  2.02026099e-01,\n",
              "        -1.36191919e-01,  9.39141810e-02, -1.93547606e-02,\n",
              "         1.67981148e-01,  2.00545996e-01, -1.38766289e-01,\n",
              "         1.25488609e-01],\n",
              "       [ 4.67847884e-02, -1.07247218e-01,  1.78341419e-01,\n",
              "        -2.08489627e-01, -3.60859334e-02,  1.82345212e-01,\n",
              "         1.34853154e-01, -1.86066300e-01, -1.42891139e-01,\n",
              "        -1.03244305e-01],\n",
              "       [-4.89864200e-02, -1.76399082e-01, -5.41257560e-02,\n",
              "         2.08106577e-01,  1.28894538e-01,  2.07589895e-01,\n",
              "        -2.13480458e-01, -1.18598342e-02,  7.23187029e-02,\n",
              "         3.06938589e-02],\n",
              "       [-1.68816119e-01, -9.32020694e-02, -7.88614601e-02,\n",
              "        -1.73261091e-01,  6.70591891e-02, -2.11411119e-02,\n",
              "         8.81972015e-02, -9.24687833e-02, -3.95725667e-03,\n",
              "        -1.09632604e-01],\n",
              "       [ 9.91530716e-02,  1.04149550e-01, -1.45426705e-01,\n",
              "        -1.20718949e-01,  1.40780151e-01,  2.20351696e-01,\n",
              "         9.55250859e-02, -9.83045995e-02,  2.29425728e-02,\n",
              "        -2.09903523e-01],\n",
              "       [-1.43484324e-01, -2.14057267e-02, -1.31305486e-01,\n",
              "         1.73965544e-01,  2.94668972e-02, -8.55763406e-02,\n",
              "         8.64025950e-02, -5.02029657e-02,  9.83853340e-02,\n",
              "         9.51973498e-02],\n",
              "       [ 1.01038098e-01,  1.57675594e-01,  2.29332834e-01,\n",
              "         2.05640525e-01, -1.32360846e-01,  1.00129545e-01,\n",
              "         1.84200704e-02,  1.06974095e-02, -7.23346323e-02,\n",
              "         2.19269991e-01],\n",
              "       [ 2.28428453e-01, -8.84511769e-02,  2.09724993e-01,\n",
              "         4.23445404e-02,  1.87418163e-02, -1.10311933e-01,\n",
              "        -2.84871459e-03,  6.74027205e-03,  9.08220112e-02,\n",
              "        -6.03463352e-02],\n",
              "       [ 4.73174453e-03,  1.95836425e-01, -1.35993063e-01,\n",
              "        -4.56390679e-02, -1.11590512e-01,  1.93821490e-01,\n",
              "         1.74877793e-01, -1.55209467e-01,  7.45626688e-02,\n",
              "         1.40653759e-01],\n",
              "       [-2.18013301e-01,  3.17489207e-02, -9.58642513e-02,\n",
              "         2.11037397e-01, -3.58919352e-02,  1.53877378e-01,\n",
              "        -1.32345751e-01, -1.04200989e-01, -1.05353281e-01,\n",
              "         1.14030689e-01],\n",
              "       [ 1.97946340e-01,  1.74567014e-01,  1.48233563e-01,\n",
              "         2.11353391e-01,  2.03146100e-01, -7.22482651e-02,\n",
              "         1.52453750e-01, -1.13208540e-01,  2.21974850e-02,\n",
              "        -6.77775592e-02],\n",
              "       [-1.92741305e-02,  2.29410172e-01, -3.41316462e-02,\n",
              "         5.52159548e-02,  7.83063471e-02,  1.42653257e-01,\n",
              "         1.67489320e-01, -3.28197032e-02,  1.84857935e-01,\n",
              "        -1.66051254e-01],\n",
              "       [ 1.13005459e-01, -3.13315392e-02,  1.16544157e-01,\n",
              "        -1.73596591e-02,  1.10585988e-03,  4.53399420e-02,\n",
              "        -5.14244288e-02, -1.77215397e-01,  5.55554628e-02,\n",
              "        -1.30624101e-01],\n",
              "       [ 1.21762097e-01,  5.13137877e-03, -1.07979730e-01,\n",
              "        -1.12634227e-01, -1.95691884e-01,  1.41411602e-01,\n",
              "         3.06295455e-02, -2.24864364e-01, -8.20560902e-02,\n",
              "        -3.38535607e-02],\n",
              "       [-2.06598490e-02,  2.78079510e-02, -1.29093379e-02,\n",
              "        -2.10702226e-01,  7.96957314e-03, -1.10026278e-01,\n",
              "        -1.74049839e-01,  1.62871212e-01,  2.09267616e-01,\n",
              "        -1.90673202e-01],\n",
              "       [ 1.76175296e-01,  2.03683972e-02, -1.82756245e-01,\n",
              "        -7.85149485e-02,  8.88781548e-02, -2.04018310e-01,\n",
              "         2.58451700e-02, -1.90163046e-01, -1.96196020e-01,\n",
              "         1.28392875e-03],\n",
              "       [ 1.20943516e-01, -1.50509477e-02, -1.78246915e-01,\n",
              "        -2.22380921e-01, -3.12273204e-03,  2.32751518e-01,\n",
              "         2.15453684e-01, -1.80916041e-02, -3.66429985e-03,\n",
              "        -2.28017285e-01],\n",
              "       [-2.06566244e-01, -1.81744218e-01, -1.07844353e-01,\n",
              "         1.29270792e-01, -1.54350176e-01, -1.30401373e-01,\n",
              "        -1.87126666e-01, -2.13576615e-01, -2.15470836e-01,\n",
              "        -6.64992630e-02],\n",
              "       [ 1.29648477e-01, -2.28159890e-01,  2.18504697e-01,\n",
              "         8.93747211e-02,  2.21476376e-01,  4.85718548e-02,\n",
              "        -9.51267332e-02,  1.24064088e-01,  1.96206212e-01,\n",
              "        -2.96307653e-02],\n",
              "       [-2.49676257e-02, -6.92087710e-02, -2.04968542e-01,\n",
              "         3.11881006e-02, -1.60689577e-01,  2.32636929e-01,\n",
              "         1.55788630e-01,  9.77067947e-02,  1.07956886e-01,\n",
              "         1.72372460e-01],\n",
              "       [-2.03716740e-01, -9.51893777e-02, -2.16430411e-01,\n",
              "         2.09458053e-01, -6.80240095e-02,  1.03138685e-01,\n",
              "         1.43685132e-01,  2.31844962e-01,  5.06852269e-02,\n",
              "        -8.06041062e-02],\n",
              "       [ 1.18144751e-01, -7.24874735e-02, -1.41779885e-01,\n",
              "         2.26741642e-01, -1.63092613e-01, -6.07043207e-02,\n",
              "        -5.81215322e-03, -2.31004596e-01, -1.26799151e-01,\n",
              "         1.44443065e-01],\n",
              "       [-5.02937287e-02, -9.09313560e-03, -7.79834539e-02,\n",
              "         1.57113373e-03, -2.00763226e-01, -1.12934023e-01,\n",
              "         2.07397848e-01,  4.30086255e-03,  2.03510821e-01,\n",
              "        -1.99680358e-01],\n",
              "       [ 9.43382084e-02, -5.76892793e-02, -1.90554261e-01,\n",
              "        -8.95622075e-02, -1.55551583e-02,  8.14269781e-02,\n",
              "        -2.17030779e-01,  3.03981900e-02, -4.86794114e-03,\n",
              "        -1.06328115e-01],\n",
              "       [-2.10601330e-01,  2.19133586e-01,  9.36533809e-02,\n",
              "         1.56074762e-01, -4.10043746e-02,  1.56369627e-01,\n",
              "        -1.96099415e-01, -9.05172229e-02,  2.07775384e-01,\n",
              "         4.56272662e-02],\n",
              "       [ 1.86889231e-01,  1.92460239e-01,  2.76995897e-02,\n",
              "         1.75203800e-01, -1.72763616e-01, -4.00623381e-02,\n",
              "         4.05385494e-02, -2.12740496e-01, -9.83071625e-02,\n",
              "        -2.04154849e-03],\n",
              "       [ 2.04099417e-02,  2.03714609e-01,  2.27603495e-01,\n",
              "         1.45299256e-01,  3.30224037e-02, -1.63102195e-01,\n",
              "        -2.28601620e-01,  6.71181679e-02,  1.89621568e-01,\n",
              "        -1.32558018e-01],\n",
              "       [-1.79437235e-01, -2.53446549e-02, -2.27259830e-01,\n",
              "        -9.72680748e-03, -8.65158737e-02, -1.92240000e-01,\n",
              "         1.09937012e-01, -8.88422281e-02, -2.16461807e-01,\n",
              "        -2.04767019e-01],\n",
              "       [ 1.99630082e-01, -1.08357474e-01,  5.31962514e-02,\n",
              "        -6.63710833e-02, -8.96304250e-02, -1.08956113e-01,\n",
              "        -3.69477868e-02, -6.94417953e-03, -1.35179430e-01,\n",
              "        -1.16388239e-01],\n",
              "       [-1.82902813e-01, -5.68391383e-03,  1.51385069e-01,\n",
              "         2.16339648e-01,  1.77867413e-02,  2.98676789e-02,\n",
              "        -1.42436951e-01, -2.53392011e-02,  3.41504514e-02,\n",
              "        -4.34881449e-03],\n",
              "       [ 1.19712830e-01,  2.78647244e-03, -9.33524072e-02,\n",
              "        -2.20011964e-01,  2.16343611e-01,  1.19225085e-01,\n",
              "        -1.27061635e-01,  1.63549334e-01,  2.27640748e-01,\n",
              "        -1.10452421e-01],\n",
              "       [-1.99293822e-01,  9.70436633e-03, -7.09466785e-02,\n",
              "         5.80017269e-03, -1.19822174e-02, -1.64589435e-02,\n",
              "        -6.15730882e-04,  1.74006820e-02,  2.17658997e-01,\n",
              "        -5.74681610e-02],\n",
              "       [-1.96945369e-02,  1.35640502e-02, -2.13832483e-01,\n",
              "         7.97899663e-02, -6.11169189e-02,  2.15325952e-01,\n",
              "         2.18230188e-02, -3.43573093e-03,  6.26028180e-02,\n",
              "        -1.93354934e-01],\n",
              "       [-5.99762797e-03, -1.83693334e-01, -2.25566089e-01,\n",
              "         1.85544044e-01,  4.84588742e-03, -1.02081105e-01,\n",
              "        -9.77173448e-03,  1.62303656e-01,  8.26414824e-02,\n",
              "         1.33375764e-01],\n",
              "       [-2.04784840e-01,  2.06692427e-01,  1.81050628e-01,\n",
              "        -8.67227912e-02, -1.69920921e-02,  1.66254044e-01,\n",
              "         1.97163224e-02,  1.50694609e-01, -2.63331831e-02,\n",
              "        -4.05731797e-03],\n",
              "       [ 3.79209220e-03, -1.87527359e-01, -9.92566496e-02,\n",
              "        -1.01926684e-01,  7.10143447e-02, -1.53160453e-01,\n",
              "        -1.32702291e-03,  4.06152010e-02, -1.21099487e-01,\n",
              "         1.73721135e-01],\n",
              "       [-2.26281211e-01,  1.08734608e-01,  7.61842430e-02,\n",
              "        -1.47025734e-01, -7.32860714e-02, -2.06194818e-02,\n",
              "        -1.40442058e-01, -5.08297980e-02,  1.30302101e-01,\n",
              "        -6.83967620e-02],\n",
              "       [ 1.29604548e-01,  9.86818373e-02, -1.13978982e-04,\n",
              "         1.81202590e-01,  1.12265378e-01,  8.78709555e-03,\n",
              "        -1.86594397e-01, -9.92550999e-02,  1.93947047e-01,\n",
              "         1.85812831e-01],\n",
              "       [ 4.37085927e-02,  5.19863069e-02,  1.83007717e-01,\n",
              "         1.36634201e-01, -3.83979827e-02,  1.16817594e-01,\n",
              "         3.98628414e-02, -2.17415273e-01, -1.52315795e-02,\n",
              "         4.88274395e-02],\n",
              "       [-6.80403858e-02,  1.25895828e-01,  7.91344643e-02,\n",
              "         3.25739384e-05, -1.80184335e-01, -2.17059672e-01,\n",
              "        -1.65418535e-02, -7.16979504e-02, -3.37172002e-02,\n",
              "         1.40298724e-01],\n",
              "       [ 6.40985072e-02, -1.60442293e-01,  1.74721420e-01,\n",
              "         2.15427577e-01, -1.55483365e-01,  1.48853511e-01,\n",
              "        -8.75139832e-02,  1.47026807e-01,  7.57081509e-02,\n",
              "        -1.59714356e-01],\n",
              "       [ 2.24607855e-01,  1.43523246e-01, -1.27433538e-02,\n",
              "        -1.33015335e-01,  2.32344657e-01, -2.12352276e-01,\n",
              "         7.07857013e-02, -1.28294736e-01,  3.59174907e-02,\n",
              "         1.52278334e-01],\n",
              "       [ 1.75219774e-01,  1.12639636e-01, -1.78578779e-01,\n",
              "        -1.94420248e-01, -1.32227033e-01,  1.04298651e-01,\n",
              "         1.55404210e-03,  3.88070941e-02, -1.65570661e-01,\n",
              "        -7.88090080e-02],\n",
              "       [ 8.99816155e-02, -3.89510840e-02,  1.31274134e-01,\n",
              "        -5.19903004e-03, -1.52610809e-01,  1.16614372e-01,\n",
              "        -2.72770077e-02,  2.28886813e-01,  5.11238575e-02,\n",
              "         2.31443226e-01],\n",
              "       [-1.11760795e-01,  1.88155413e-01, -1.01172030e-01,\n",
              "        -2.27839097e-01,  2.12448537e-02, -1.05824023e-01,\n",
              "         1.08522415e-01,  1.03879988e-01, -3.87753993e-02,\n",
              "        -2.95481235e-02],\n",
              "       [-1.91103011e-01, -1.42232537e-01, -3.09969932e-02,\n",
              "        -3.39398086e-02, -7.29839951e-02,  1.35010064e-01,\n",
              "         4.01337147e-02,  2.16838449e-01,  1.32536024e-01,\n",
              "        -3.58032882e-02],\n",
              "       [ 1.00960702e-01, -3.90592217e-02,  7.97575712e-03,\n",
              "         3.36945355e-02, -1.77697092e-02,  1.41886562e-01,\n",
              "         1.14062667e-01,  1.34221435e-01,  1.69851601e-01,\n",
              "         4.08819318e-02],\n",
              "       [-1.49173588e-02, -3.40353101e-02,  1.76137328e-01,\n",
              "         2.08897710e-01, -1.95934370e-01, -1.55918583e-01,\n",
              "        -8.87561440e-02,  1.71865463e-01,  2.43141949e-02,\n",
              "        -1.17995851e-01],\n",
              "       [-1.91521138e-01,  5.88495731e-02,  2.96891332e-02,\n",
              "        -9.24046338e-02, -1.98886827e-01, -2.52095610e-02,\n",
              "        -7.46457875e-02, -2.06460670e-01, -4.08393145e-03,\n",
              "         1.28853291e-01],\n",
              "       [ 1.47074461e-05, -1.04341805e-01, -1.41774088e-01,\n",
              "        -1.18324436e-01, -1.80869609e-01, -4.17639911e-02,\n",
              "        -1.93907365e-01,  7.09341466e-02, -2.12085947e-01,\n",
              "        -2.31064066e-01],\n",
              "       [ 5.69486916e-02,  1.51643902e-01, -6.97894841e-02,\n",
              "         2.19643474e-01,  6.61056340e-02,  2.10394859e-02,\n",
              "         6.51438236e-02,  1.03909820e-02,  6.70376122e-02,\n",
              "        -1.78157821e-01],\n",
              "       [-6.52741939e-02, -1.88908726e-01,  2.31946647e-01,\n",
              "         1.76723480e-01,  4.35483456e-02,  1.20392770e-01,\n",
              "         1.27879620e-01, -8.78682882e-02, -1.15587078e-01,\n",
              "         2.58855522e-02],\n",
              "       [-1.80813313e-01,  1.38632268e-01, -1.20819628e-01,\n",
              "        -1.72196940e-01, -1.05834052e-01,  2.66952217e-02,\n",
              "        -1.88839346e-01,  8.75616968e-02,  2.26554841e-01,\n",
              "         1.23998106e-01],\n",
              "       [-9.31029022e-02, -1.38334244e-01,  7.68235922e-02,\n",
              "        -2.25021511e-01,  1.93942666e-01,  2.25518197e-01,\n",
              "         1.94379717e-01, -7.79475421e-02,  1.06602013e-01,\n",
              "        -1.71187088e-01],\n",
              "       [-2.92547941e-02, -1.53320819e-01,  1.17078245e-01,\n",
              "         8.87891650e-02, -5.17972261e-02, -1.61884531e-01,\n",
              "        -9.98247266e-02,  8.76711011e-02, -3.72603834e-02,\n",
              "         1.16334170e-01],\n",
              "       [ 1.95412397e-01,  1.86874360e-01,  1.36448443e-01,\n",
              "        -1.36011064e-01, -1.34789109e-01, -1.59322351e-01,\n",
              "        -1.05758324e-01,  2.92247832e-02, -1.73741907e-01,\n",
              "        -1.67288333e-02],\n",
              "       [-8.64085704e-02,  3.71648371e-02,  1.80018008e-01,\n",
              "         1.85083777e-01, -1.99760050e-01,  1.25117600e-02,\n",
              "        -1.52779594e-01, -1.68958664e-01, -4.07963991e-03,\n",
              "         1.62763268e-01],\n",
              "       [ 5.36134243e-02, -8.38526189e-02,  1.56162977e-01,\n",
              "         2.21749663e-01,  9.18066502e-02,  1.42021924e-01,\n",
              "         7.44385421e-02,  2.31681705e-01,  1.08948708e-01,\n",
              "        -2.26908758e-01],\n",
              "       [ 2.79329419e-02, -1.75942436e-01, -1.28624588e-01,\n",
              "         1.40103996e-01, -1.72557980e-01, -1.63951218e-02,\n",
              "        -3.49457711e-02,  1.96388513e-01, -6.51750118e-02,\n",
              "        -1.01937056e-01],\n",
              "       [ 1.08679771e-01, -1.63979083e-02, -1.69919193e-01,\n",
              "         5.45982718e-02, -1.29807070e-01, -5.93855381e-02,\n",
              "        -1.86164588e-01, -1.27365619e-01, -2.47102976e-03,\n",
              "         2.10228264e-01],\n",
              "       [-1.70153558e-01, -2.68479139e-02, -1.03888333e-01,\n",
              "         1.99362069e-01, -1.67375386e-01, -1.08073875e-01,\n",
              "        -1.44026011e-01,  1.70996636e-01,  1.29496962e-01,\n",
              "         1.17672175e-01],\n",
              "       [-4.39851135e-02, -2.43654698e-02, -9.84039903e-03,\n",
              "        -9.12227184e-02, -4.71929908e-02,  3.48967314e-02,\n",
              "         1.15335107e-01,  7.71381557e-02, -1.01085499e-01,\n",
              "         1.19001031e-01],\n",
              "       [-1.23704933e-01,  5.34429848e-02,  1.38750523e-01,\n",
              "        -1.01531848e-01,  1.58708185e-01,  1.88073665e-01,\n",
              "         2.30765343e-01, -1.77344128e-01, -4.42028344e-02,\n",
              "        -1.93096176e-01],\n",
              "       [-1.49303883e-01, -3.77520174e-02, -2.22947165e-01,\n",
              "         1.30451709e-01, -5.28349280e-02,  1.39381886e-02,\n",
              "        -9.24954563e-02, -7.11864531e-02, -7.43696541e-02,\n",
              "         1.39865577e-01],\n",
              "       [-1.73052400e-01, -1.50746346e-01, -5.46296835e-02,\n",
              "        -1.40763849e-01, -7.84163326e-02,  1.54015452e-01,\n",
              "        -2.05494121e-01,  4.25505638e-02, -2.29955167e-02,\n",
              "        -2.25412726e-01],\n",
              "       [-1.54138193e-01,  7.39070475e-02,  1.09845251e-01,\n",
              "         2.28661418e-01, -2.15664208e-02, -1.39817461e-01,\n",
              "         6.04997873e-02, -2.90073454e-03, -2.25063384e-01,\n",
              "         2.12000698e-01],\n",
              "       [-1.79634914e-01,  1.66713774e-01,  1.32819772e-01,\n",
              "         1.32043004e-01,  1.77200794e-01, -1.17209725e-01,\n",
              "        -8.37397575e-02, -1.82375327e-01,  2.01898813e-02,\n",
              "         1.00491583e-01],\n",
              "       [-4.51468229e-02, -3.06750387e-02, -1.59948945e-01,\n",
              "        -1.79897010e-01, -2.00873524e-01, -2.17506692e-01,\n",
              "         1.64277554e-01, -1.03214070e-01,  2.07842916e-01,\n",
              "         7.31887519e-02],\n",
              "       [ 9.68791246e-02, -1.83023080e-01, -8.41374993e-02,\n",
              "         5.14091253e-02, -1.83082834e-01,  7.45618641e-02,\n",
              "        -2.14397773e-01,  1.24937415e-01,  8.43987167e-02,\n",
              "        -1.24216542e-01],\n",
              "       [ 1.86894745e-01,  1.55817240e-01,  1.42154902e-01,\n",
              "        -2.26239949e-01,  4.17255759e-02, -2.19680652e-01,\n",
              "         1.24220043e-01, -7.87434131e-02, -5.29850423e-02,\n",
              "         7.07406104e-02],\n",
              "       [ 2.56880522e-02,  1.88924819e-01,  1.35838002e-01,\n",
              "         1.76922083e-02, -1.73609391e-01, -3.24033052e-02,\n",
              "         1.73548251e-01, -1.56801432e-01, -8.43998194e-02,\n",
              "        -1.48980916e-02],\n",
              "       [-1.54878438e-01,  1.01056874e-01,  1.89404190e-02,\n",
              "        -1.76670849e-02,  1.48405492e-01,  2.01981902e-01,\n",
              "        -6.80746883e-02,  1.42776489e-01, -2.12893844e-01,\n",
              "        -1.31928295e-01],\n",
              "       [-2.25162059e-02, -7.29998946e-03, -2.18679309e-01,\n",
              "        -5.59759736e-02, -2.04957843e-01, -8.99818838e-02,\n",
              "         1.32539362e-01,  7.79850781e-02, -6.46064430e-02,\n",
              "         1.81277663e-01],\n",
              "       [ 1.72588229e-01, -2.05774605e-03,  8.36995542e-02,\n",
              "         7.56440163e-02, -3.13323140e-02,  1.66799366e-01,\n",
              "        -2.02097327e-01, -6.91079348e-02, -1.69953048e-01,\n",
              "         6.98112547e-02],\n",
              "       [ 1.36958510e-02, -1.66041911e-01, -1.68947309e-01,\n",
              "        -1.91564292e-01,  8.55780542e-02,  7.51717687e-02,\n",
              "        -3.32200080e-02, -2.33428627e-01, -1.23155065e-01,\n",
              "        -1.66730464e-01],\n",
              "       [-2.25032866e-01, -8.49773586e-02, -3.70594859e-02,\n",
              "        -6.37557209e-02,  1.26448363e-01, -2.21737683e-01,\n",
              "         1.06572509e-02, -1.00992784e-01,  1.50377214e-01,\n",
              "        -3.88713479e-02],\n",
              "       [ 1.55889183e-01,  9.97245014e-02, -1.93616480e-01,\n",
              "         1.01236939e-01,  1.67443722e-01, -2.23790586e-01,\n",
              "         1.58420891e-01, -4.75205183e-02,  4.23772335e-02,\n",
              "        -4.87169176e-02],\n",
              "       [ 2.00809777e-01,  2.42524445e-02,  1.84110105e-02,\n",
              "         2.28414983e-01, -1.49375215e-01, -3.07748765e-02,\n",
              "         1.21294051e-01, -1.52557194e-01,  2.24990666e-01,\n",
              "         1.29477531e-01],\n",
              "       [-2.26472706e-01,  1.58731610e-01,  3.39019597e-02,\n",
              "         8.27528536e-02, -9.99723971e-02,  9.03260708e-02,\n",
              "         1.63741112e-01,  6.25731349e-02, -7.08715171e-02,\n",
              "         1.42964870e-01],\n",
              "       [-4.19852287e-02,  2.28729129e-01,  1.97220534e-01,\n",
              "        -1.37151390e-01, -5.72283566e-03,  2.06711352e-01,\n",
              "         1.99470371e-01, -2.32758105e-01,  1.85869247e-01,\n",
              "         1.50831580e-01],\n",
              "       [ 1.99492216e-01, -9.15399194e-03, -5.24072200e-02,\n",
              "        -1.82630688e-01,  2.96981335e-02,  1.40437335e-01,\n",
              "         1.75155401e-01,  1.38031453e-01, -7.62771219e-02,\n",
              "         2.47135460e-02],\n",
              "       [-8.04662853e-02, -1.31219923e-02, -3.07363421e-02,\n",
              "        -1.04983047e-01, -1.25652313e-01,  1.33173704e-01,\n",
              "        -4.74867225e-03, -3.97497863e-02,  1.86601073e-01,\n",
              "        -1.84029162e-01],\n",
              "       [-1.51067078e-01, -7.59860128e-02, -2.26007819e-01,\n",
              "        -1.52614549e-01, -3.35088372e-02, -2.28995085e-03,\n",
              "         7.84087479e-02, -9.72412825e-02, -2.74761766e-02,\n",
              "         2.13125765e-01],\n",
              "       [ 1.48733079e-01,  6.57341182e-02, -4.85758483e-03,\n",
              "         1.10975772e-01, -2.22948670e-01,  2.33015418e-03,\n",
              "         1.90659851e-01,  1.27993882e-01,  1.09929830e-01,\n",
              "        -1.82283074e-02],\n",
              "       [-1.30540967e-01,  8.51179659e-02, -2.10545033e-01,\n",
              "        -1.27118319e-01, -2.01242596e-01, -1.67777136e-01,\n",
              "        -1.19526118e-01, -7.51857460e-02,  1.37775153e-01,\n",
              "        -1.97080374e-01],\n",
              "       [ 1.82996631e-01,  1.75406218e-01,  2.14596659e-01,\n",
              "        -1.70491546e-01, -1.79473996e-01, -1.27201959e-01,\n",
              "        -8.35901499e-03, -3.63823324e-02,  2.00140417e-01,\n",
              "         5.24904132e-02],\n",
              "       [-2.17478856e-01,  1.04628801e-01,  1.69148266e-01,\n",
              "        -1.02621332e-01,  1.01552218e-01, -3.63140106e-02,\n",
              "         2.29454160e-01,  9.56421793e-02,  4.49969172e-02,\n",
              "         4.37431037e-03],\n",
              "       [ 1.27074242e-01,  8.64204764e-02,  1.05065405e-01,\n",
              "         1.27584994e-01, -1.79232210e-01,  6.81195259e-02,\n",
              "         1.51747525e-01,  1.10104859e-01,  1.07952148e-01,\n",
              "        -1.45082146e-01],\n",
              "       [-2.87241340e-02,  2.29379535e-03, -6.27736449e-02,\n",
              "        -1.66881874e-01, -9.11899209e-02,  8.52639973e-03,\n",
              "        -3.15348804e-02, -1.02152824e-01,  6.53363764e-02,\n",
              "         2.32954830e-01],\n",
              "       [-2.26789981e-01,  1.32891834e-01, -7.71867484e-02,\n",
              "         8.12657177e-02,  1.85988396e-01,  1.76000565e-01,\n",
              "         1.79313451e-01,  8.01812410e-02, -1.03223652e-01,\n",
              "         2.28617191e-02],\n",
              "       [-2.85704583e-02,  1.06238186e-01,  1.91848874e-02,\n",
              "        -2.27215171e-01,  1.15717918e-01, -2.30595663e-01,\n",
              "        -4.52581346e-02, -6.75654113e-02, -6.46784902e-02,\n",
              "         1.39897913e-01],\n",
              "       [-1.14842653e-01, -2.20428526e-01,  1.36123866e-01,\n",
              "        -1.25591233e-01, -1.14183761e-01, -3.34240794e-02,\n",
              "         5.36200404e-03,  1.64784968e-01, -1.50891230e-01,\n",
              "         1.81795061e-01],\n",
              "       [ 1.73398852e-02, -1.59086823e-01,  1.38177067e-01,\n",
              "        -1.74656048e-01,  1.22053891e-01, -1.71790406e-01,\n",
              "         8.43703151e-02, -7.19425678e-02,  2.55008936e-02,\n",
              "         1.87590718e-02],\n",
              "       [-1.96317971e-01,  1.14246577e-01, -1.31025523e-01,\n",
              "         4.06768024e-02,  1.62259430e-01, -1.68376893e-01,\n",
              "        -5.43514341e-02, -1.96374148e-01,  1.29471421e-01,\n",
              "         9.09952521e-02],\n",
              "       [ 1.83921695e-01,  1.55890584e-01, -1.61376700e-01,\n",
              "         1.38593495e-01,  1.19753569e-01,  1.38958216e-01,\n",
              "         8.58060122e-02, -1.91453397e-02, -6.18551075e-02,\n",
              "        -2.32215971e-01],\n",
              "       [ 1.69014335e-02,  4.10490334e-02, -1.89699486e-01,\n",
              "         1.86879486e-01,  1.54983908e-01,  1.43518478e-01,\n",
              "        -2.06003457e-01, -5.82245439e-02,  1.62408322e-01,\n",
              "        -7.57378340e-03],\n",
              "       [ 2.12094188e-01,  1.15907460e-01,  3.13612521e-02,\n",
              "        -2.89212018e-02, -1.27224743e-01,  1.68737710e-01,\n",
              "        -1.13248631e-01, -9.25210118e-02, -8.54411870e-02,\n",
              "        -2.19323561e-01],\n",
              "       [ 1.92055792e-01, -2.16875151e-01, -1.01961374e-01,\n",
              "        -1.11394122e-01, -2.48878300e-02,  1.91058695e-01,\n",
              "        -1.56461492e-01, -7.41964281e-02,  9.47111845e-02,\n",
              "        -1.73285097e-01],\n",
              "       [ 8.39972198e-02, -2.22526252e-01, -9.87635255e-02,\n",
              "        -7.99964964e-02, -6.91010803e-02, -3.67884785e-02,\n",
              "         1.68826580e-01, -4.09603864e-02, -3.06508690e-02,\n",
              "         3.43215168e-02]], dtype=float32)"
            ]
          },
          "metadata": {
            "tags": []
          },
          "execution_count": 116
        }
      ]
    },
    {
      "cell_type": "code",
      "metadata": {
        "id": "LQStgSaePAW3",
        "colab_type": "code",
        "outputId": "24ed8d1a-9408-41d5-fda0-2d7b16326b32",
        "colab": {
          "base_uri": "https://localhost:8080/",
          "height": 337
        }
      },
      "source": [
        "biases1"
      ],
      "execution_count": 101,
      "outputs": [
        {
          "output_type": "execute_result",
          "data": {
            "text/plain": [
              "array([0., 0., 0., 0., 0., 0., 0., 0., 0., 0., 0., 0., 0., 0., 0., 0., 0.,\n",
              "       0., 0., 0., 0., 0., 0., 0., 0., 0., 0., 0., 0., 0., 0., 0., 0., 0.,\n",
              "       0., 0., 0., 0., 0., 0., 0., 0., 0., 0., 0., 0., 0., 0., 0., 0., 0.,\n",
              "       0., 0., 0., 0., 0., 0., 0., 0., 0., 0., 0., 0., 0., 0., 0., 0., 0.,\n",
              "       0., 0., 0., 0., 0., 0., 0., 0., 0., 0., 0., 0., 0., 0., 0., 0., 0.,\n",
              "       0., 0., 0., 0., 0., 0., 0., 0., 0., 0., 0., 0., 0., 0., 0., 0., 0.,\n",
              "       0., 0., 0., 0., 0., 0., 0., 0., 0., 0., 0., 0., 0., 0., 0., 0., 0.,\n",
              "       0., 0., 0., 0., 0., 0., 0., 0., 0., 0., 0., 0., 0., 0., 0., 0., 0.,\n",
              "       0., 0., 0., 0., 0., 0., 0., 0., 0., 0., 0., 0., 0., 0., 0., 0., 0.,\n",
              "       0., 0., 0., 0., 0., 0., 0., 0., 0., 0., 0., 0., 0., 0., 0., 0., 0.,\n",
              "       0., 0., 0., 0., 0., 0., 0., 0., 0., 0., 0., 0., 0., 0., 0., 0., 0.,\n",
              "       0., 0., 0., 0., 0., 0., 0., 0., 0., 0., 0., 0., 0., 0., 0., 0., 0.,\n",
              "       0., 0., 0., 0., 0., 0., 0., 0., 0., 0., 0., 0., 0., 0., 0., 0., 0.,\n",
              "       0., 0., 0., 0., 0., 0., 0., 0., 0., 0., 0., 0., 0., 0., 0., 0., 0.,\n",
              "       0., 0., 0., 0., 0., 0., 0., 0., 0., 0., 0., 0., 0., 0., 0., 0., 0.,\n",
              "       0., 0., 0., 0., 0., 0., 0., 0., 0., 0., 0., 0., 0., 0., 0., 0., 0.,\n",
              "       0., 0., 0., 0., 0., 0., 0., 0., 0., 0., 0., 0., 0., 0., 0., 0., 0.,\n",
              "       0., 0., 0., 0., 0., 0., 0., 0., 0., 0., 0.], dtype=float32)"
            ]
          },
          "metadata": {
            "tags": []
          },
          "execution_count": 101
        }
      ]
    },
    {
      "cell_type": "code",
      "metadata": {
        "id": "ztb4wKpRQVNi",
        "colab_type": "code",
        "outputId": "19e56e85-e1c0-4626-a1fe-b1904996f3c7",
        "colab": {
          "base_uri": "https://localhost:8080/",
          "height": 141
        }
      },
      "source": [
        "biases2"
      ],
      "execution_count": 105,
      "outputs": [
        {
          "output_type": "execute_result",
          "data": {
            "text/plain": [
              "array([0., 0., 0., 0., 0., 0., 0., 0., 0., 0., 0., 0., 0., 0., 0., 0., 0.,\n",
              "       0., 0., 0., 0., 0., 0., 0., 0., 0., 0., 0., 0., 0., 0., 0., 0., 0.,\n",
              "       0., 0., 0., 0., 0., 0., 0., 0., 0., 0., 0., 0., 0., 0., 0., 0., 0.,\n",
              "       0., 0., 0., 0., 0., 0., 0., 0., 0., 0., 0., 0., 0., 0., 0., 0., 0.,\n",
              "       0., 0., 0., 0., 0., 0., 0., 0., 0., 0., 0., 0., 0., 0., 0., 0., 0.,\n",
              "       0., 0., 0., 0., 0., 0., 0., 0., 0., 0., 0., 0., 0., 0., 0.],\n",
              "      dtype=float32)"
            ]
          },
          "metadata": {
            "tags": []
          },
          "execution_count": 105
        }
      ]
    },
    {
      "cell_type": "code",
      "metadata": {
        "id": "v6fMzCbbPb-L",
        "colab_type": "code",
        "colab": {
          "base_uri": "https://localhost:8080/",
          "height": 35
        },
        "outputId": "6e243e2f-da67-4974-d561-440aa177e543"
      },
      "source": [
        "biases3"
      ],
      "execution_count": 117,
      "outputs": [
        {
          "output_type": "execute_result",
          "data": {
            "text/plain": [
              "array([0., 0., 0., 0., 0., 0., 0., 0., 0., 0.], dtype=float32)"
            ]
          },
          "metadata": {
            "tags": []
          },
          "execution_count": 117
        }
      ]
    },
    {
      "cell_type": "code",
      "metadata": {
        "id": "NaVsNWXlQVRO",
        "colab_type": "code",
        "outputId": "afc0e298-d0c1-4a9b-f058-36524faaf5c1",
        "colab": {
          "base_uri": "https://localhost:8080/",
          "height": 35
        }
      },
      "source": [
        "print(weights1.shape, biases1.shape, weights2.shape, biases2.shape, weights3.shape, biases3.shape,)"
      ],
      "execution_count": 118,
      "outputs": [
        {
          "output_type": "stream",
          "text": [
            "(784, 300) (300,) (300, 100) (100,) (100, 10) (10,)\n"
          ],
          "name": "stdout"
        }
      ]
    },
    {
      "cell_type": "code",
      "metadata": {
        "id": "8wAVXA_bKmOk",
        "colab_type": "code",
        "outputId": "48435e1b-93ca-4813-900f-f24f873a1649",
        "colab": {
          "base_uri": "https://localhost:8080/",
          "height": 1000
        }
      },
      "source": [
        "#optimizer could be adam\n",
        "model.compile(optimizer=keras.optimizers.SGD(learning_rate=0.01), \n",
        "              loss='sparse_categorical_crossentropy', \n",
        "              metrics=['accuracy'])\n",
        "cnnfit = model.fit(x=X_train, y=y_train, epochs=30, validation_data=(X_valid,y_valid))"
      ],
      "execution_count": 119,
      "outputs": [
        {
          "output_type": "stream",
          "text": [
            "Train on 37800 samples, validate on 4200 samples\n",
            "Epoch 1/30\n",
            "37800/37800 [==============================] - 5s 132us/sample - loss: 0.7266 - accuracy: 0.8162 - val_loss: 0.3813 - val_accuracy: 0.8929\n",
            "Epoch 2/30\n",
            "37800/37800 [==============================] - 5s 123us/sample - loss: 0.3236 - accuracy: 0.9065 - val_loss: 0.3099 - val_accuracy: 0.9093\n",
            "Epoch 3/30\n",
            "37800/37800 [==============================] - 5s 124us/sample - loss: 0.2685 - accuracy: 0.9226 - val_loss: 0.2755 - val_accuracy: 0.9202\n",
            "Epoch 4/30\n",
            "37800/37800 [==============================] - 5s 125us/sample - loss: 0.2345 - accuracy: 0.9337 - val_loss: 0.2491 - val_accuracy: 0.9274\n",
            "Epoch 5/30\n",
            "37800/37800 [==============================] - 5s 127us/sample - loss: 0.2082 - accuracy: 0.9403 - val_loss: 0.2235 - val_accuracy: 0.9383\n",
            "Epoch 6/30\n",
            "37800/37800 [==============================] - 5s 120us/sample - loss: 0.1874 - accuracy: 0.9457 - val_loss: 0.2107 - val_accuracy: 0.9407\n",
            "Epoch 7/30\n",
            "37800/37800 [==============================] - 5s 123us/sample - loss: 0.1697 - accuracy: 0.9516 - val_loss: 0.2014 - val_accuracy: 0.9407\n",
            "Epoch 8/30\n",
            "37800/37800 [==============================] - 5s 120us/sample - loss: 0.1542 - accuracy: 0.9565 - val_loss: 0.1801 - val_accuracy: 0.9493\n",
            "Epoch 9/30\n",
            "37800/37800 [==============================] - 5s 120us/sample - loss: 0.1414 - accuracy: 0.9601 - val_loss: 0.1694 - val_accuracy: 0.9510\n",
            "Epoch 10/30\n",
            "37800/37800 [==============================] - 5s 125us/sample - loss: 0.1303 - accuracy: 0.9631 - val_loss: 0.1604 - val_accuracy: 0.9548\n",
            "Epoch 11/30\n",
            "37800/37800 [==============================] - 5s 124us/sample - loss: 0.1205 - accuracy: 0.9665 - val_loss: 0.1513 - val_accuracy: 0.9564\n",
            "Epoch 12/30\n",
            "37800/37800 [==============================] - 5s 123us/sample - loss: 0.1120 - accuracy: 0.9682 - val_loss: 0.1433 - val_accuracy: 0.9574\n",
            "Epoch 13/30\n",
            "37800/37800 [==============================] - 5s 124us/sample - loss: 0.1041 - accuracy: 0.9711 - val_loss: 0.1403 - val_accuracy: 0.9574\n",
            "Epoch 14/30\n",
            "37800/37800 [==============================] - 5s 121us/sample - loss: 0.0971 - accuracy: 0.9735 - val_loss: 0.1342 - val_accuracy: 0.9598\n",
            "Epoch 15/30\n",
            "37800/37800 [==============================] - 5s 122us/sample - loss: 0.0911 - accuracy: 0.9747 - val_loss: 0.1300 - val_accuracy: 0.9588\n",
            "Epoch 16/30\n",
            "37800/37800 [==============================] - 5s 121us/sample - loss: 0.0853 - accuracy: 0.9765 - val_loss: 0.1248 - val_accuracy: 0.9612\n",
            "Epoch 17/30\n",
            "37800/37800 [==============================] - 5s 121us/sample - loss: 0.0801 - accuracy: 0.9779 - val_loss: 0.1206 - val_accuracy: 0.9643\n",
            "Epoch 18/30\n",
            "37800/37800 [==============================] - 5s 124us/sample - loss: 0.0754 - accuracy: 0.9794 - val_loss: 0.1189 - val_accuracy: 0.9640\n",
            "Epoch 19/30\n",
            "37800/37800 [==============================] - 5s 123us/sample - loss: 0.0708 - accuracy: 0.9808 - val_loss: 0.1157 - val_accuracy: 0.9614\n",
            "Epoch 20/30\n",
            "37800/37800 [==============================] - 5s 127us/sample - loss: 0.0668 - accuracy: 0.9819 - val_loss: 0.1106 - val_accuracy: 0.9650\n",
            "Epoch 21/30\n",
            "37800/37800 [==============================] - 5s 124us/sample - loss: 0.0633 - accuracy: 0.9831 - val_loss: 0.1185 - val_accuracy: 0.9633\n",
            "Epoch 22/30\n",
            "37800/37800 [==============================] - 5s 133us/sample - loss: 0.0598 - accuracy: 0.9838 - val_loss: 0.1123 - val_accuracy: 0.9645\n",
            "Epoch 23/30\n",
            "37800/37800 [==============================] - 5s 141us/sample - loss: 0.0562 - accuracy: 0.9858 - val_loss: 0.1050 - val_accuracy: 0.9669\n",
            "Epoch 24/30\n",
            "37800/37800 [==============================] - 5s 133us/sample - loss: 0.0534 - accuracy: 0.9860 - val_loss: 0.1041 - val_accuracy: 0.9664\n",
            "Epoch 25/30\n",
            "37800/37800 [==============================] - 5s 128us/sample - loss: 0.0504 - accuracy: 0.9872 - val_loss: 0.1191 - val_accuracy: 0.9636\n",
            "Epoch 26/30\n",
            "37800/37800 [==============================] - 5s 127us/sample - loss: 0.0482 - accuracy: 0.9878 - val_loss: 0.1081 - val_accuracy: 0.9662\n",
            "Epoch 27/30\n",
            "37800/37800 [==============================] - 5s 125us/sample - loss: 0.0451 - accuracy: 0.9889 - val_loss: 0.1045 - val_accuracy: 0.9662\n",
            "Epoch 28/30\n",
            "37800/37800 [==============================] - 5s 123us/sample - loss: 0.0427 - accuracy: 0.9898 - val_loss: 0.0994 - val_accuracy: 0.9700\n",
            "Epoch 29/30\n",
            "37800/37800 [==============================] - 5s 121us/sample - loss: 0.0406 - accuracy: 0.9902 - val_loss: 0.0968 - val_accuracy: 0.9698\n",
            "Epoch 30/30\n",
            "37800/37800 [==============================] - 5s 125us/sample - loss: 0.0383 - accuracy: 0.9910 - val_loss: 0.0958 - val_accuracy: 0.9698\n"
          ],
          "name": "stdout"
        }
      ]
    },
    {
      "cell_type": "code",
      "metadata": {
        "id": "BSlPDFcqI56U",
        "colab_type": "code",
        "outputId": "782817ec-549b-490c-9d02-8d3b0ff4f829",
        "colab": {
          "base_uri": "https://localhost:8080/",
          "height": 141
        }
      },
      "source": [
        "cnnfit.params"
      ],
      "execution_count": 75,
      "outputs": [
        {
          "output_type": "execute_result",
          "data": {
            "text/plain": [
              "{'batch_size': 32,\n",
              " 'do_validation': True,\n",
              " 'epochs': 30,\n",
              " 'metrics': ['loss', 'accuracy', 'val_loss', 'val_accuracy'],\n",
              " 'samples': 38500,\n",
              " 'steps': 1204,\n",
              " 'verbose': 0}"
            ]
          },
          "metadata": {
            "tags": []
          },
          "execution_count": 75
        }
      ]
    },
    {
      "cell_type": "code",
      "metadata": {
        "id": "walIeVpoI59W",
        "colab_type": "code",
        "outputId": "ddfc7907-9eec-4ae9-99f1-c9655b00e5e0",
        "colab": {
          "base_uri": "https://localhost:8080/",
          "height": 35
        }
      },
      "source": [
        "len(cnnfit.epoch)"
      ],
      "execution_count": 76,
      "outputs": [
        {
          "output_type": "execute_result",
          "data": {
            "text/plain": [
              "30"
            ]
          },
          "metadata": {
            "tags": []
          },
          "execution_count": 76
        }
      ]
    },
    {
      "cell_type": "code",
      "metadata": {
        "id": "6In2_HoOI6CP",
        "colab_type": "code",
        "outputId": "17b8d1f5-5643-4745-c1b4-29d10cd212d2",
        "colab": {
          "base_uri": "https://localhost:8080/",
          "height": 35
        }
      },
      "source": [
        "cnnfit.history.keys()"
      ],
      "execution_count": 77,
      "outputs": [
        {
          "output_type": "execute_result",
          "data": {
            "text/plain": [
              "dict_keys(['loss', 'accuracy', 'val_loss', 'val_accuracy'])"
            ]
          },
          "metadata": {
            "tags": []
          },
          "execution_count": 77
        }
      ]
    },
    {
      "cell_type": "code",
      "metadata": {
        "id": "yahCg8aaV3X7",
        "colab_type": "code",
        "outputId": "add24bbf-3474-45d7-c75d-928dc3884cbd",
        "colab": {
          "base_uri": "https://localhost:8080/",
          "height": 596
        }
      },
      "source": [
        "pd.DataFrame(cnnfit.history).plot(figsize=(10,10))\n",
        "plt.grid(True)\n",
        "plt.gca().set_ylim(0,1)\n",
        "plt.savefig('cnnfit plot')\n",
        "plt.show()"
      ],
      "execution_count": 78,
      "outputs": [
        {
          "output_type": "display_data",
          "data": {
            "image/png": "[encoded data removed]",
            "text/plain": [
              "<Figure size 720x720 with 1 Axes>"
            ]
          },
          "metadata": {
            "tags": []
          }
        }
      ]
    },
    {
      "cell_type": "code",
      "metadata": {
        "id": "zcAwNjpKavfh",
        "colab_type": "code",
        "colab": {}
      },
      "source": [
        "outcome_c = model.predict_classes(X_test)"
      ],
      "execution_count": 0,
      "outputs": []
    },
    {
      "cell_type": "code",
      "metadata": {
        "id": "7UCizI0cb2hx",
        "colab_type": "code",
        "colab": {}
      },
      "source": [
        "from google.colab import drive\n",
        "drive.mount('/content/gdrive', force_remount=True)\n",
        "root_dir = \"/content/gdrive/My Drive/\"\n",
        "base_dir = root_dir + 'fastai-v3/'"
      ],
      "execution_count": 0,
      "outputs": []
    },
    {
      "cell_type": "code",
      "metadata": {
        "id": "kPRj_UmXmUjH",
        "colab_type": "code",
        "colab": {}
      },
      "source": [
        "submission=pd.DataFrame()\n",
        "submission['Label']=outcome_c\n",
        "submission['ImageId']=range(1, 28001)\n",
        "submission.set_index(['ImageId'], inplace=True)"
      ],
      "execution_count": 0,
      "outputs": []
    },
    {
      "cell_type": "code",
      "metadata": {
        "id": "CDfikFwPbA2T",
        "colab_type": "code",
        "colab": {
          "base_uri": "https://localhost:8080/",
          "height": 141
        },
        "outputId": "c2d5f1e2-4299-4c5b-8de1-de947566066b"
      },
      "source": [
        "print(submission.head())"
      ],
      "execution_count": 167,
      "outputs": [
        {
          "output_type": "stream",
          "text": [
            "         Label\n",
            "ImageId       \n",
            "1            2\n",
            "2            0\n",
            "3            9\n",
            "4            9\n",
            "5            3\n"
          ],
          "name": "stdout"
        }
      ]
    },
    {
      "cell_type": "code",
      "metadata": {
        "id": "DtJUiMiuaxzr",
        "colab_type": "code",
        "colab": {}
      },
      "source": [
        "pd.DataFrame(submission).to_csv(r'C:\\Users\\xzhan\\Downloads\\SubmissionCNN')"
      ],
      "execution_count": 0,
      "outputs": []
    }
  ]
}